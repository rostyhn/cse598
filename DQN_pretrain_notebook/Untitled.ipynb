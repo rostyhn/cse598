{
 "cells": [
  {
   "cell_type": "code",
   "execution_count": 1,
   "id": "820a5abe",
   "metadata": {},
   "outputs": [
    {
     "name": "stdout",
     "output_type": "stream",
     "text": [
      "current_dir=/Users/alexbriones/Library/Caches/pypoetry/virtualenvs/icaml-planning-fFRb6YwO-py3.11/lib/python3.11/site-packages/pybullet_envs/bullet\n"
     ]
    },
    {
     "name": "stderr",
     "output_type": "stream",
     "text": [
      "pybullet build time: Apr 10 2024 13:52:30\n",
      "/Users/alexbriones/Library/Caches/pypoetry/virtualenvs/icaml-planning-fFRb6YwO-py3.11/lib/python3.11/site-packages/pybullet_envs/bullet/cartpole_bullet.py:21: DeprecationWarning: pkg_resources is deprecated as an API. See https://setuptools.pypa.io/en/latest/pkg_resources.html\n",
      "  from pkg_resources import parse_version\n"
     ]
    }
   ],
   "source": [
    "# Import necessary modules\n",
    "import os\n",
    "import sys\n",
    "\n",
    "# Change the working directory to the one where your Python package is located\n",
    "os.chdir('/Users/alexbriones/Documents/undergradCS2024/cse598/gResearch/cse598/iCaML')\n",
    "\n",
    "from datetime import datetime\n",
    "from pybullet_envs.bullet.kukaGymEnv import KukaGymEnv\n",
    "from agent import Agent\n",
    "\n"
   ]
  },
  {
   "cell_type": "code",
   "execution_count": null,
   "id": "d924c98d",
   "metadata": {},
   "outputs": [
    {
     "name": "stderr",
     "output_type": "stream",
     "text": [
      "/Users/alexbriones/Library/Caches/pypoetry/virtualenvs/icaml-planning-fFRb6YwO-py3.11/lib/python3.11/site-packages/gym/spaces/box.py:84: UserWarning: \u001b[33mWARN: Box bound precision lowered by casting to float32\u001b[0m\n",
      "  logger.warn(f\"Box bound precision lowered by casting to {self.dtype}\")\n",
      "/Users/alexbriones/Library/Caches/pypoetry/virtualenvs/icaml-planning-fFRb6YwO-py3.11/lib/python3.11/site-packages/tf_agents/__init__.py:58: DeprecationWarning: distutils Version classes are deprecated. Use packaging.version instead.\n",
      "  if distutils.version.LooseVersion(\n",
      "/Users/alexbriones/Library/Caches/pypoetry/virtualenvs/icaml-planning-fFRb6YwO-py3.11/lib/python3.11/site-packages/tensorflow_probability/python/__init__.py:57: DeprecationWarning: distutils Version classes are deprecated. Use packaging.version instead.\n",
      "  if (distutils.version.LooseVersion(tf.__version__) <\n",
      "/Users/alexbriones/Library/Caches/pypoetry/virtualenvs/icaml-planning-fFRb6YwO-py3.11/lib/python3.11/site-packages/tf_agents/utils/common.py:91: DeprecationWarning: distutils Version classes are deprecated. Use packaging.version instead.\n",
      "  distutils.version.LooseVersion(tf.__version__)\n"
     ]
    },
    {
     "name": "stdout",
     "output_type": "stream",
     "text": [
      "No old queries to load\n",
      "Planning\n"
     ]
    }
   ],
   "source": [
    "# Function to train the agent\n",
    "def train_agent(agent, episodes, save_dir=\"../results\"):\n",
    "    for episode in range(episodes):\n",
    "        observation = agent.environment.reset()\n",
    "        total_reward = 0\n",
    "        done = False\n",
    "        \n",
    "        while not done:\n",
    "            action = agent.act(observation)  # TODOD Implement  act in agent.py\n",
    "            observation, reward, done, info = agent.environment.step(action)\n",
    "            agent.remember(observation, action, reward, done)  # TODO Implement  act in agent.py\n",
    "            agent.learn()  # TODO Implement  act in agent.py\n",
    "            total_reward += reward\n",
    "        \n",
    "        print(f'Episode: {episode+1}, Total Reward: {total_reward}')\n",
    "        \n",
    "        # Save model every episode / certain intervals\n",
    "        if episode % 100 == 0 or episode == episodes - 1:  # save every 100 episodes including last\n",
    "            save_path = os.path.join(save_dir, f'model_weights_ep{episode}.h5')\n",
    "            agent.save(save_path)  # TODO Implement  act in agent.py\n",
    "\n",
    "#  pybullet env\n",
    "environment = KukaGymEnv(renders=True, isDiscrete=True, maxSteps=10000000)\n",
    "motors_ids = [\n",
    "    environment._p.addUserDebugParameter(\"posX\", -0.01, 0.01, 0),\n",
    "    environment._p.addUserDebugParameter(\"posY\", -0.01, 0.01, 0),\n",
    "    environment._p.addUserDebugParameter(\"posZ\", -0.01, 0.01, 0),\n",
    "    environment._p.addUserDebugParameter(\"yaw\", -0.01, 0.01, 0),\n",
    "    environment._p.addUserDebugParameter(\"fingerAngle\", 0, 0.3, 0.3)\n",
    "]\n",
    "\n",
    "# Initialize the Agent\n",
    "agent = Agent(\"kuka\", environment, motors_ids)\n",
    "\n",
    "# save model weights in dir \n",
    "results_dir = \"../results\"\n",
    "if not os.path.exists(results_dir):\n",
    "    os.mkdir(results_dir)\n",
    "\n",
    "# training agent on ep\n",
    "number_of_episodes = 1000  # 1000 ep\n",
    "train_agent(agent, number_of_episodes, save_dir=results_dir)\n"
   ]
  },
  {
   "cell_type": "code",
   "execution_count": null,
   "id": "e238a2c6",
   "metadata": {},
   "outputs": [],
   "source": []
  }
 ],
 "metadata": {
  "kernelspec": {
   "display_name": "my-poetry-kernel",
   "language": "python",
   "name": "my-poetry-kernel"
  },
  "language_info": {
   "codemirror_mode": {
    "name": "ipython",
    "version": 3
   },
   "file_extension": ".py",
   "mimetype": "text/x-python",
   "name": "python",
   "nbconvert_exporter": "python",
   "pygments_lexer": "ipython3",
   "version": "3.11.5"
  }
 },
 "nbformat": 4,
 "nbformat_minor": 5
}
