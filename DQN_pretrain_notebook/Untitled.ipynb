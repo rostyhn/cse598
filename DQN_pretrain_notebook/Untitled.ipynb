{
 "cells": [
  {
   "cell_type": "code",
   "execution_count": 1,
   "id": "820a5abe",
   "metadata": {},
   "outputs": [
    {
     "name": "stdout",
     "output_type": "stream",
     "text": [
      "current_dir=/Users/alexbriones/Library/Caches/pypoetry/virtualenvs/icaml-planning-fFRb6YwO-py3.11/lib/python3.11/site-packages/pybullet_envs/bullet\n"
     ]
    },
    {
     "name": "stderr",
     "output_type": "stream",
     "text": [
      "pybullet build time: Apr 10 2024 13:52:30\n",
      "/Users/alexbriones/Library/Caches/pypoetry/virtualenvs/icaml-planning-fFRb6YwO-py3.11/lib/python3.11/site-packages/pybullet_envs/bullet/cartpole_bullet.py:21: DeprecationWarning: pkg_resources is deprecated as an API. See https://setuptools.pypa.io/en/latest/pkg_resources.html\n",
      "  from pkg_resources import parse_version\n"
     ]
    }
   ],
   "source": [
    "# Import necessary modules\n",
    "import os\n",
    "import sys\n",
    "\n",
    "# Change the working directory to the one where your Python package is located\n",
    "os.chdir('/Users/alexbriones/Documents/undergradCS2024/cse598/gResearch/cse598/iCaML')\n",
    "\n",
    "from datetime import datetime\n",
    "from pybullet_envs.bullet.kukaGymEnv import KukaGymEnv\n",
    "from agent import Agent\n",
    "\n"
   ]
  },
  {
   "cell_type": "code",
   "execution_count": 2,
   "id": "d924c98d",
   "metadata": {},
   "outputs": [
    {
     "name": "stderr",
     "output_type": "stream",
     "text": [
      "/Users/alexbriones/Library/Caches/pypoetry/virtualenvs/icaml-planning-fFRb6YwO-py3.11/lib/python3.11/site-packages/gym/spaces/box.py:84: UserWarning: \u001b[33mWARN: Box bound precision lowered by casting to float32\u001b[0m\n",
      "  logger.warn(f\"Box bound precision lowered by casting to {self.dtype}\")\n",
      "/Users/alexbriones/Library/Caches/pypoetry/virtualenvs/icaml-planning-fFRb6YwO-py3.11/lib/python3.11/site-packages/tf_agents/__init__.py:58: DeprecationWarning: distutils Version classes are deprecated. Use packaging.version instead.\n",
      "  if distutils.version.LooseVersion(\n",
      "/Users/alexbriones/Library/Caches/pypoetry/virtualenvs/icaml-planning-fFRb6YwO-py3.11/lib/python3.11/site-packages/tensorflow_probability/python/__init__.py:57: DeprecationWarning: distutils Version classes are deprecated. Use packaging.version instead.\n",
      "  if (distutils.version.LooseVersion(tf.__version__) <\n",
      "/Users/alexbriones/Library/Caches/pypoetry/virtualenvs/icaml-planning-fFRb6YwO-py3.11/lib/python3.11/site-packages/tf_agents/utils/common.py:91: DeprecationWarning: distutils Version classes are deprecated. Use packaging.version instead.\n",
      "  distutils.version.LooseVersion(tf.__version__)\n"
     ]
    },
    {
     "name": "stdout",
     "output_type": "stream",
     "text": [
      "No old queries to load\n",
      "Planning\n"
     ]
    },
    {
     "ename": "error",
     "evalue": "Cannot load SDF file.",
     "output_type": "error",
     "traceback": [
      "\u001b[0;31m---------------------------------------------------------------------------\u001b[0m",
      "\u001b[0;31merror\u001b[0m                                     Traceback (most recent call last)",
      "Cell \u001b[0;32mIn[2], line 33\u001b[0m\n\u001b[1;32m     24\u001b[0m motors_ids \u001b[38;5;241m=\u001b[39m [\n\u001b[1;32m     25\u001b[0m     environment\u001b[38;5;241m.\u001b[39m_p\u001b[38;5;241m.\u001b[39maddUserDebugParameter(\u001b[38;5;124m\"\u001b[39m\u001b[38;5;124mposX\u001b[39m\u001b[38;5;124m\"\u001b[39m, \u001b[38;5;241m-\u001b[39m\u001b[38;5;241m0.01\u001b[39m, \u001b[38;5;241m0.01\u001b[39m, \u001b[38;5;241m0\u001b[39m),\n\u001b[1;32m     26\u001b[0m     environment\u001b[38;5;241m.\u001b[39m_p\u001b[38;5;241m.\u001b[39maddUserDebugParameter(\u001b[38;5;124m\"\u001b[39m\u001b[38;5;124mposY\u001b[39m\u001b[38;5;124m\"\u001b[39m, \u001b[38;5;241m-\u001b[39m\u001b[38;5;241m0.01\u001b[39m, \u001b[38;5;241m0.01\u001b[39m, \u001b[38;5;241m0\u001b[39m),\n\u001b[0;32m   (...)\u001b[0m\n\u001b[1;32m     29\u001b[0m     environment\u001b[38;5;241m.\u001b[39m_p\u001b[38;5;241m.\u001b[39maddUserDebugParameter(\u001b[38;5;124m\"\u001b[39m\u001b[38;5;124mfingerAngle\u001b[39m\u001b[38;5;124m\"\u001b[39m, \u001b[38;5;241m0\u001b[39m, \u001b[38;5;241m0.3\u001b[39m, \u001b[38;5;241m0.3\u001b[39m)\n\u001b[1;32m     30\u001b[0m ]\n\u001b[1;32m     32\u001b[0m \u001b[38;5;66;03m# Initialize the Agent\u001b[39;00m\n\u001b[0;32m---> 33\u001b[0m agent \u001b[38;5;241m=\u001b[39m \u001b[43mAgent\u001b[49m\u001b[43m(\u001b[49m\u001b[38;5;124;43m\"\u001b[39;49m\u001b[38;5;124;43mkuka\u001b[39;49m\u001b[38;5;124;43m\"\u001b[39;49m\u001b[43m,\u001b[49m\u001b[43m \u001b[49m\u001b[43menvironment\u001b[49m\u001b[43m,\u001b[49m\u001b[43m \u001b[49m\u001b[43mmotors_ids\u001b[49m\u001b[43m)\u001b[49m\n\u001b[1;32m     35\u001b[0m \u001b[38;5;66;03m# save model weights in dir \u001b[39;00m\n\u001b[1;32m     36\u001b[0m results_dir \u001b[38;5;241m=\u001b[39m \u001b[38;5;124m\"\u001b[39m\u001b[38;5;124m../results\u001b[39m\u001b[38;5;124m\"\u001b[39m\n",
      "File \u001b[0;32m~/Documents/undergradCS2024/cse598/gResearch/cse598/iCaML/agent.py:21\u001b[0m, in \u001b[0;36mAgent.__init__\u001b[0;34m(self, domain, env, motors)\u001b[0m\n\u001b[1;32m     19\u001b[0m \u001b[38;5;28mself\u001b[39m\u001b[38;5;241m.\u001b[39magent_type \u001b[38;5;241m=\u001b[39m \u001b[38;5;124m\"\u001b[39m\u001b[38;5;124msimulator\u001b[39m\u001b[38;5;124m\"\u001b[39m\n\u001b[1;32m     20\u001b[0m \u001b[38;5;28;01mfrom\u001b[39;00m \u001b[38;5;21;01mkuka_agent\u001b[39;00m \u001b[38;5;28;01mimport\u001b[39;00m KukaAgent \n\u001b[0;32m---> 21\u001b[0m \u001b[38;5;28mself\u001b[39m\u001b[38;5;241m.\u001b[39magent_model \u001b[38;5;241m=\u001b[39m \u001b[43mKukaAgent\u001b[49m\u001b[43m(\u001b[49m\u001b[43menv\u001b[49m\u001b[43m,\u001b[49m\u001b[43m \u001b[49m\u001b[43mmotors\u001b[49m\u001b[43m)\u001b[49m\n",
      "File \u001b[0;32m~/Documents/undergradCS2024/cse598/gResearch/cse598/iCaML/kuka_agent.py:45\u001b[0m, in \u001b[0;36mKukaAgent.__init__\u001b[0;34m(self, env, motors, ground_actions)\u001b[0m\n\u001b[1;32m     43\u001b[0m         temp_states \u001b[38;5;241m=\u001b[39m pickle\u001b[38;5;241m.\u001b[39mload(f)\n\u001b[1;32m     44\u001b[0m \u001b[38;5;28;01mexcept\u001b[39;00m \u001b[38;5;167;01mIOError\u001b[39;00m:\n\u001b[0;32m---> 45\u001b[0m     temp_states \u001b[38;5;241m=\u001b[39m \u001b[38;5;28;43mself\u001b[39;49m\u001b[38;5;241;43m.\u001b[39;49m\u001b[43mgenerate_random_states\u001b[49m\u001b[43m(\u001b[49m\n\u001b[1;32m     46\u001b[0m \u001b[43m        \u001b[49m\u001b[43mn\u001b[49m\u001b[38;5;241;43m=\u001b[39;49m\u001b[43mnum_random_states\u001b[49m\u001b[43m,\u001b[49m\n\u001b[1;32m     47\u001b[0m \u001b[43m        \u001b[49m\u001b[43malgo\u001b[49m\u001b[38;5;241;43m=\u001b[39;49m\u001b[38;5;124;43m\"\u001b[39;49m\u001b[38;5;124;43mhuman\u001b[39;49m\u001b[38;5;124;43m\"\u001b[39;49m\u001b[43m,\u001b[49m\n\u001b[1;32m     48\u001b[0m \u001b[43m        \u001b[49m\u001b[43mabstract\u001b[49m\u001b[38;5;241;43m=\u001b[39;49m\u001b[38;5;28;43;01mTrue\u001b[39;49;00m\u001b[43m,\u001b[49m\n\u001b[1;32m     49\u001b[0m \u001b[43m        \u001b[49m\u001b[43mrandom\u001b[49m\u001b[38;5;241;43m=\u001b[39;49m\u001b[38;5;28;43;01mTrue\u001b[39;49;00m\u001b[43m,\u001b[49m\n\u001b[1;32m     50\u001b[0m \u001b[43m        \u001b[49m\u001b[43msave_trace\u001b[49m\u001b[38;5;241;43m=\u001b[39;49m\u001b[38;5;28;43;01mTrue\u001b[39;49;00m\u001b[43m,\u001b[49m\n\u001b[1;32m     51\u001b[0m \u001b[43m    \u001b[49m\u001b[43m)\u001b[49m\n\u001b[1;32m     52\u001b[0m \u001b[38;5;66;03m###generate additional states for data\u001b[39;00m\n\u001b[1;32m     53\u001b[0m \u001b[38;5;250m\u001b[39m\u001b[38;5;124;03m\"\"\"\u001b[39;00m\n\u001b[1;32m     54\u001b[0m \u001b[38;5;124;03mn_extra = 0\u001b[39;00m\n\u001b[1;32m     55\u001b[0m \u001b[38;5;124;03mself.load_actions()\u001b[39;00m\n\u001b[0;32m   (...)\u001b[0m\n\u001b[1;32m     80\u001b[0m \u001b[38;5;124;03m    [st.state.pop(k_,None) for k_ in temp_k]\u001b[39;00m\n\u001b[1;32m     81\u001b[0m \u001b[38;5;124;03m\"\"\"\u001b[39;00m\n",
      "File \u001b[0;32m~/Documents/undergradCS2024/cse598/gResearch/cse598/iCaML/kuka_agent.py:122\u001b[0m, in \u001b[0;36mKukaAgent.generate_random_states\u001b[0;34m(self, n, save, abstract, random, save_trace, add_intermediate, algo)\u001b[0m\n\u001b[1;32m    120\u001b[0m \u001b[38;5;28mself\u001b[39m\u001b[38;5;241m.\u001b[39menvironment\u001b[38;5;241m.\u001b[39mreset() \n\u001b[1;32m    121\u001b[0m s \u001b[38;5;241m=\u001b[39m KukaState(\u001b[38;5;28mself\u001b[39m\u001b[38;5;241m.\u001b[39menvironment\u001b[38;5;241m.\u001b[39m_p\u001b[38;5;241m.\u001b[39msaveState())\n\u001b[0;32m--> 122\u001b[0m st, actions \u001b[38;5;241m=\u001b[39m \u001b[38;5;28;43mself\u001b[39;49m\u001b[38;5;241;43m.\u001b[39;49m\u001b[43msolve_game\u001b[49m\u001b[43m(\u001b[49m\u001b[43ms\u001b[49m\u001b[43m,\u001b[49m\u001b[43m \u001b[49m\u001b[43m_actions\u001b[49m\u001b[38;5;241;43m=\u001b[39;49m\u001b[38;5;28;43;01mTrue\u001b[39;49;00m\u001b[43m,\u001b[49m\u001b[43m \u001b[49m\u001b[43malgo\u001b[49m\u001b[38;5;241;43m=\u001b[39;49m\u001b[38;5;124;43m\"\u001b[39;49m\u001b[38;5;124;43mhuman\u001b[39;49m\u001b[38;5;124;43m\"\u001b[39;49m\u001b[43m)\u001b[49m\n\u001b[1;32m    124\u001b[0m \u001b[38;5;28;01mif\u001b[39;00m st \u001b[38;5;129;01mis\u001b[39;00m \u001b[38;5;129;01mnot\u001b[39;00m \u001b[38;5;28;01mFalse\u001b[39;00m:\n\u001b[1;32m    125\u001b[0m     solved_random_states\u001b[38;5;241m.\u001b[39mextend(st)\n",
      "File \u001b[0;32m~/Documents/undergradCS2024/cse598/gResearch/cse598/iCaML/kuka_agent.py:177\u001b[0m, in \u001b[0;36mKukaAgent.solve_game\u001b[0;34m(self, state, _actions, algo)\u001b[0m\n\u001b[1;32m    174\u001b[0m \u001b[38;5;28mself\u001b[39m\u001b[38;5;241m.\u001b[39menvironment\u001b[38;5;241m.\u001b[39m_p\u001b[38;5;241m.\u001b[39mrestoreState(state\u001b[38;5;241m.\u001b[39mstate[\u001b[38;5;124m\"\u001b[39m\u001b[38;5;124mstateID\u001b[39m\u001b[38;5;124m\"\u001b[39m])\n\u001b[1;32m    175\u001b[0m final_state \u001b[38;5;241m=\u001b[39m \u001b[38;5;28mself\u001b[39m\u001b[38;5;241m.\u001b[39mget_solved_state(state)\n\u001b[0;32m--> 177\u001b[0m actions, total_nodes_expanded \u001b[38;5;241m=\u001b[39m \u001b[38;5;28;43mself\u001b[39;49m\u001b[38;5;241;43m.\u001b[39;49m\u001b[43mtranslator\u001b[49m\u001b[38;5;241;43m.\u001b[39;49m\u001b[43mplan_to_state\u001b[49m\u001b[43m(\u001b[49m\n\u001b[1;32m    178\u001b[0m \u001b[43m    \u001b[49m\u001b[43mstate\u001b[49m\u001b[43m,\u001b[49m\u001b[43m \u001b[49m\u001b[43mfinal_state\u001b[49m\u001b[43m,\u001b[49m\u001b[43m \u001b[49m\u001b[43malgo\u001b[49m\n\u001b[1;32m    179\u001b[0m \u001b[43m\u001b[49m\u001b[43m)\u001b[49m\n\u001b[1;32m    180\u001b[0m states\u001b[38;5;241m.\u001b[39mappend(state)\n\u001b[1;32m    181\u001b[0m cstate \u001b[38;5;241m=\u001b[39m copy\u001b[38;5;241m.\u001b[39mdeepcopy(state)\n",
      "File \u001b[0;32m~/Documents/undergradCS2024/cse598/gResearch/cse598/iCaML/kuka_translator.py:27\u001b[0m, in \u001b[0;36msaved_plan.<locals>._saved_plan\u001b[0;34m(self, state1, state2, algo, full_trace)\u001b[0m\n\u001b[1;32m     25\u001b[0m \u001b[38;5;28;01mif\u001b[39;00m \u001b[38;5;28mself\u001b[39m\u001b[38;5;241m.\u001b[39msaved_plans\u001b[38;5;241m.\u001b[39mget(pkey)\u001b[38;5;241m!=\u001b[39m\u001b[38;5;28;01mNone\u001b[39;00m:\n\u001b[1;32m     26\u001b[0m     \u001b[38;5;28;01mreturn\u001b[39;00m \u001b[38;5;28mself\u001b[39m\u001b[38;5;241m.\u001b[39msaved_plans\u001b[38;5;241m.\u001b[39mget(pkey) \n\u001b[0;32m---> 27\u001b[0m a,b \u001b[38;5;241m=\u001b[39m \u001b[43mfunction\u001b[49m\u001b[43m(\u001b[49m\u001b[38;5;28;43mself\u001b[39;49m\u001b[43m,\u001b[49m\u001b[43mstate1\u001b[49m\u001b[43m,\u001b[49m\u001b[43mstate2\u001b[49m\u001b[43m,\u001b[49m\u001b[43malgo\u001b[49m\u001b[43m,\u001b[49m\u001b[43mfull_trace\u001b[49m\u001b[43m)\u001b[49m\n\u001b[1;32m     28\u001b[0m \u001b[38;5;28mself\u001b[39m\u001b[38;5;241m.\u001b[39msaved_plans[pkey] \u001b[38;5;241m=\u001b[39m [a,b]\n\u001b[1;32m     29\u001b[0m \u001b[38;5;28;01mwith\u001b[39;00m \u001b[38;5;28mopen\u001b[39m(\u001b[38;5;28mself\u001b[39m\u001b[38;5;241m.\u001b[39mplan_history_file,\u001b[38;5;124m\"\u001b[39m\u001b[38;5;124mwb\u001b[39m\u001b[38;5;124m\"\u001b[39m) \u001b[38;5;28;01mas\u001b[39;00m f:\n",
      "File \u001b[0;32m~/Documents/undergradCS2024/cse598/gResearch/cse598/iCaML/kuka_translator.py:131\u001b[0m, in \u001b[0;36mKukaTranslator.plan_to_state\u001b[0;34m(self, state1, state2, algo, full_trace)\u001b[0m\n\u001b[1;32m    129\u001b[0m done \u001b[38;5;241m=\u001b[39m \u001b[38;5;28;01mFalse\u001b[39;00m\n\u001b[1;32m    130\u001b[0m obs \u001b[38;5;241m=\u001b[39m np\u001b[38;5;241m.\u001b[39marray(\u001b[38;5;28mself\u001b[39m\u001b[38;5;241m.\u001b[39menvironment\u001b[38;5;241m.\u001b[39m_observation)\n\u001b[0;32m--> 131\u001b[0m ts \u001b[38;5;241m=\u001b[39m \u001b[43mtf_env\u001b[49m\u001b[38;5;241;43m.\u001b[39;49m\u001b[43mreset\u001b[49m\u001b[43m(\u001b[49m\u001b[43m)\u001b[49m\n\u001b[1;32m    132\u001b[0m \u001b[38;5;28;01mwhile\u001b[39;00m \u001b[38;5;129;01mnot\u001b[39;00m done:\n\u001b[1;32m    133\u001b[0m     \u001b[38;5;28mself\u001b[39m\u001b[38;5;241m.\u001b[39menvironment\u001b[38;5;241m.\u001b[39mrender()\n",
      "File \u001b[0;32m~/Library/Caches/pypoetry/virtualenvs/icaml-planning-fFRb6YwO-py3.11/lib/python3.11/site-packages/tf_agents/environments/tf_environment.py:209\u001b[0m, in \u001b[0;36mTFEnvironment.reset\u001b[0;34m(self)\u001b[0m\n\u001b[1;32m    198\u001b[0m \u001b[38;5;28;01mdef\u001b[39;00m \u001b[38;5;21mreset\u001b[39m(\u001b[38;5;28mself\u001b[39m):\n\u001b[1;32m    199\u001b[0m \u001b[38;5;250m  \u001b[39m\u001b[38;5;124;03m\"\"\"Resets the environment and returns the current time_step.\u001b[39;00m\n\u001b[1;32m    200\u001b[0m \n\u001b[1;32m    201\u001b[0m \u001b[38;5;124;03m  Returns:\u001b[39;00m\n\u001b[0;32m   (...)\u001b[0m\n\u001b[1;32m    207\u001b[0m \u001b[38;5;124;03m        corresponding to `observation_spec()`.\u001b[39;00m\n\u001b[1;32m    208\u001b[0m \u001b[38;5;124;03m  \"\"\"\u001b[39;00m\n\u001b[0;32m--> 209\u001b[0m   \u001b[38;5;28;01mreturn\u001b[39;00m \u001b[38;5;28;43mself\u001b[39;49m\u001b[38;5;241;43m.\u001b[39;49m\u001b[43m_reset\u001b[49m\u001b[43m(\u001b[49m\u001b[43m)\u001b[49m\n",
      "File \u001b[0;32m~/Library/Caches/pypoetry/virtualenvs/icaml-planning-fFRb6YwO-py3.11/lib/python3.11/site-packages/tf_agents/environments/tf_py_environment.py:269\u001b[0m, in \u001b[0;36mTFPyEnvironment._reset\u001b[0;34m(self)\u001b[0m\n\u001b[1;32m    266\u001b[0m   \u001b[38;5;28;01mreturn\u001b[39;00m \u001b[38;5;28mself\u001b[39m\u001b[38;5;241m.\u001b[39m_execute(_reset_py)\n\u001b[1;32m    268\u001b[0m \u001b[38;5;28;01mwith\u001b[39;00m tf\u001b[38;5;241m.\u001b[39mname_scope(\u001b[38;5;124m'\u001b[39m\u001b[38;5;124mreset\u001b[39m\u001b[38;5;124m'\u001b[39m):\n\u001b[0;32m--> 269\u001b[0m   reset_op \u001b[38;5;241m=\u001b[39m \u001b[43mtf\u001b[49m\u001b[38;5;241;43m.\u001b[39;49m\u001b[43mnumpy_function\u001b[49m\u001b[43m(\u001b[49m\n\u001b[1;32m    270\u001b[0m \u001b[43m      \u001b[49m\u001b[43m_isolated_reset_py\u001b[49m\u001b[43m,\u001b[49m\u001b[43m \u001b[49m\u001b[43m[\u001b[49m\u001b[43m]\u001b[49m\u001b[43m,\u001b[49m\u001b[43m \u001b[49m\u001b[43m[\u001b[49m\u001b[43m]\u001b[49m\u001b[43m,\u001b[49m\u001b[43m \u001b[49m\u001b[43mname\u001b[49m\u001b[38;5;241;43m=\u001b[39;49m\u001b[38;5;124;43m'\u001b[39;49m\u001b[38;5;124;43mreset_py_func\u001b[39;49m\u001b[38;5;124;43m'\u001b[39;49m\u001b[43m  \u001b[49m\u001b[38;5;66;43;03m# No inputs.\u001b[39;49;00m\n\u001b[1;32m    271\u001b[0m \u001b[43m  \u001b[49m\u001b[43m)\u001b[49m\n\u001b[1;32m    272\u001b[0m   \u001b[38;5;28;01mwith\u001b[39;00m tf\u001b[38;5;241m.\u001b[39mcontrol_dependencies([reset_op]):\n\u001b[1;32m    273\u001b[0m     \u001b[38;5;28;01mreturn\u001b[39;00m \u001b[38;5;28mself\u001b[39m\u001b[38;5;241m.\u001b[39mcurrent_time_step()\n",
      "File \u001b[0;32m~/Library/Caches/pypoetry/virtualenvs/icaml-planning-fFRb6YwO-py3.11/lib/python3.11/site-packages/tensorflow/python/util/traceback_utils.py:153\u001b[0m, in \u001b[0;36mfilter_traceback.<locals>.error_handler\u001b[0;34m(*args, **kwargs)\u001b[0m\n\u001b[1;32m    151\u001b[0m \u001b[38;5;28;01mexcept\u001b[39;00m \u001b[38;5;167;01mException\u001b[39;00m \u001b[38;5;28;01mas\u001b[39;00m e:\n\u001b[1;32m    152\u001b[0m   filtered_tb \u001b[38;5;241m=\u001b[39m _process_traceback_frames(e\u001b[38;5;241m.\u001b[39m__traceback__)\n\u001b[0;32m--> 153\u001b[0m   \u001b[38;5;28;01mraise\u001b[39;00m e\u001b[38;5;241m.\u001b[39mwith_traceback(filtered_tb) \u001b[38;5;28;01mfrom\u001b[39;00m \u001b[38;5;28;01mNone\u001b[39;00m\n\u001b[1;32m    154\u001b[0m \u001b[38;5;28;01mfinally\u001b[39;00m:\n\u001b[1;32m    155\u001b[0m   \u001b[38;5;28;01mdel\u001b[39;00m filtered_tb\n",
      "File \u001b[0;32m~/Library/Caches/pypoetry/virtualenvs/icaml-planning-fFRb6YwO-py3.11/lib/python3.11/site-packages/tf_agents/environments/tf_py_environment.py:266\u001b[0m, in \u001b[0;36mTFPyEnvironment._reset.<locals>._isolated_reset_py\u001b[0;34m()\u001b[0m\n\u001b[1;32m    265\u001b[0m \u001b[38;5;28;01mdef\u001b[39;00m \u001b[38;5;21m_isolated_reset_py\u001b[39m():\n\u001b[0;32m--> 266\u001b[0m   \u001b[38;5;28;01mreturn\u001b[39;00m \u001b[38;5;28;43mself\u001b[39;49m\u001b[38;5;241;43m.\u001b[39;49m\u001b[43m_execute\u001b[49m\u001b[43m(\u001b[49m\u001b[43m_reset_py\u001b[49m\u001b[43m)\u001b[49m\n",
      "File \u001b[0;32m~/Library/Caches/pypoetry/virtualenvs/icaml-planning-fFRb6YwO-py3.11/lib/python3.11/site-packages/tf_agents/environments/tf_py_environment.py:214\u001b[0m, in \u001b[0;36mTFPyEnvironment._execute\u001b[0;34m(self, fn, *args, **kwargs)\u001b[0m\n\u001b[1;32m    212\u001b[0m \u001b[38;5;28;01mdef\u001b[39;00m \u001b[38;5;21m_execute\u001b[39m(\u001b[38;5;28mself\u001b[39m, fn, \u001b[38;5;241m*\u001b[39margs, \u001b[38;5;241m*\u001b[39m\u001b[38;5;241m*\u001b[39mkwargs):\n\u001b[1;32m    213\u001b[0m   \u001b[38;5;28;01mif\u001b[39;00m \u001b[38;5;129;01mnot\u001b[39;00m \u001b[38;5;28mself\u001b[39m\u001b[38;5;241m.\u001b[39m_pool:\n\u001b[0;32m--> 214\u001b[0m     \u001b[38;5;28;01mreturn\u001b[39;00m \u001b[43mfn\u001b[49m\u001b[43m(\u001b[49m\u001b[38;5;241;43m*\u001b[39;49m\u001b[43margs\u001b[49m\u001b[43m,\u001b[49m\u001b[43m \u001b[49m\u001b[38;5;241;43m*\u001b[39;49m\u001b[38;5;241;43m*\u001b[39;49m\u001b[43mkwargs\u001b[49m\u001b[43m)\u001b[49m\n\u001b[1;32m    215\u001b[0m   \u001b[38;5;28;01mreturn\u001b[39;00m \u001b[38;5;28mself\u001b[39m\u001b[38;5;241m.\u001b[39m_pool\u001b[38;5;241m.\u001b[39mapply(fn, args\u001b[38;5;241m=\u001b[39margs, kwds\u001b[38;5;241m=\u001b[39mkwargs)\n",
      "File \u001b[0;32m~/Library/Caches/pypoetry/virtualenvs/icaml-planning-fFRb6YwO-py3.11/lib/python3.11/site-packages/tf_agents/environments/tf_py_environment.py:263\u001b[0m, in \u001b[0;36mTFPyEnvironment._reset.<locals>._reset_py\u001b[0;34m()\u001b[0m\n\u001b[1;32m    261\u001b[0m \u001b[38;5;28;01mdef\u001b[39;00m \u001b[38;5;21m_reset_py\u001b[39m():\n\u001b[1;32m    262\u001b[0m   \u001b[38;5;28;01mwith\u001b[39;00m _check_not_called_concurrently(\u001b[38;5;28mself\u001b[39m\u001b[38;5;241m.\u001b[39m_lock):\n\u001b[0;32m--> 263\u001b[0m     \u001b[38;5;28mself\u001b[39m\u001b[38;5;241m.\u001b[39m_time_step \u001b[38;5;241m=\u001b[39m \u001b[38;5;28;43mself\u001b[39;49m\u001b[38;5;241;43m.\u001b[39;49m\u001b[43m_env\u001b[49m\u001b[38;5;241;43m.\u001b[39;49m\u001b[43mreset\u001b[49m\u001b[43m(\u001b[49m\u001b[43m)\u001b[49m\n",
      "File \u001b[0;32m~/Library/Caches/pypoetry/virtualenvs/icaml-planning-fFRb6YwO-py3.11/lib/python3.11/site-packages/tf_agents/environments/py_environment.py:200\u001b[0m, in \u001b[0;36mPyEnvironment.reset\u001b[0;34m(self)\u001b[0m\n\u001b[1;32m    185\u001b[0m \u001b[38;5;28;01mdef\u001b[39;00m \u001b[38;5;21mreset\u001b[39m(\u001b[38;5;28mself\u001b[39m) \u001b[38;5;241m-\u001b[39m\u001b[38;5;241m>\u001b[39m ts\u001b[38;5;241m.\u001b[39mTimeStep:\n\u001b[1;32m    186\u001b[0m \u001b[38;5;250m  \u001b[39m\u001b[38;5;124;03m\"\"\"Starts a new sequence and returns the first `TimeStep` of this sequence.\u001b[39;00m\n\u001b[1;32m    187\u001b[0m \n\u001b[1;32m    188\u001b[0m \u001b[38;5;124;03m  Note: Subclasses cannot override this directly. Subclasses implement\u001b[39;00m\n\u001b[0;32m   (...)\u001b[0m\n\u001b[1;32m    198\u001b[0m \u001b[38;5;124;03m        corresponding to `observation_spec()`.\u001b[39;00m\n\u001b[1;32m    199\u001b[0m \u001b[38;5;124;03m  \"\"\"\u001b[39;00m\n\u001b[0;32m--> 200\u001b[0m   \u001b[38;5;28mself\u001b[39m\u001b[38;5;241m.\u001b[39m_current_time_step \u001b[38;5;241m=\u001b[39m \u001b[38;5;28;43mself\u001b[39;49m\u001b[38;5;241;43m.\u001b[39;49m\u001b[43m_reset\u001b[49m\u001b[43m(\u001b[49m\u001b[43m)\u001b[49m\n\u001b[1;32m    201\u001b[0m   \u001b[38;5;28;01mreturn\u001b[39;00m \u001b[38;5;28mself\u001b[39m\u001b[38;5;241m.\u001b[39m_current_time_step\n",
      "File \u001b[0;32m~/Library/Caches/pypoetry/virtualenvs/icaml-planning-fFRb6YwO-py3.11/lib/python3.11/site-packages/tf_agents/environments/batched_py_environment.py:150\u001b[0m, in \u001b[0;36mBatchedPyEnvironment._reset\u001b[0;34m(self)\u001b[0m\n\u001b[1;32m    144\u001b[0m \u001b[38;5;250m\u001b[39m\u001b[38;5;124;03m\"\"\"Reset all environments and combine the resulting observation.\u001b[39;00m\n\u001b[1;32m    145\u001b[0m \n\u001b[1;32m    146\u001b[0m \u001b[38;5;124;03mReturns:\u001b[39;00m\n\u001b[1;32m    147\u001b[0m \u001b[38;5;124;03m  Time step with batch dimension.\u001b[39;00m\n\u001b[1;32m    148\u001b[0m \u001b[38;5;124;03m\"\"\"\u001b[39;00m\n\u001b[1;32m    149\u001b[0m \u001b[38;5;28;01mif\u001b[39;00m \u001b[38;5;28mself\u001b[39m\u001b[38;5;241m.\u001b[39m_num_envs \u001b[38;5;241m==\u001b[39m \u001b[38;5;241m1\u001b[39m:\n\u001b[0;32m--> 150\u001b[0m   \u001b[38;5;28;01mreturn\u001b[39;00m nest_utils\u001b[38;5;241m.\u001b[39mbatch_nested_array(\u001b[38;5;28;43mself\u001b[39;49m\u001b[38;5;241;43m.\u001b[39;49m\u001b[43m_envs\u001b[49m\u001b[43m[\u001b[49m\u001b[38;5;241;43m0\u001b[39;49m\u001b[43m]\u001b[49m\u001b[38;5;241;43m.\u001b[39;49m\u001b[43mreset\u001b[49m\u001b[43m(\u001b[49m\u001b[43m)\u001b[49m)\n\u001b[1;32m    151\u001b[0m \u001b[38;5;28;01melse\u001b[39;00m:\n\u001b[1;32m    152\u001b[0m   time_steps \u001b[38;5;241m=\u001b[39m \u001b[38;5;28mself\u001b[39m\u001b[38;5;241m.\u001b[39m_execute(\u001b[38;5;28;01mlambda\u001b[39;00m env: env\u001b[38;5;241m.\u001b[39mreset(), \u001b[38;5;28mself\u001b[39m\u001b[38;5;241m.\u001b[39m_envs)\n",
      "File \u001b[0;32m~/Library/Caches/pypoetry/virtualenvs/icaml-planning-fFRb6YwO-py3.11/lib/python3.11/site-packages/tf_agents/environments/py_environment.py:200\u001b[0m, in \u001b[0;36mPyEnvironment.reset\u001b[0;34m(self)\u001b[0m\n\u001b[1;32m    185\u001b[0m \u001b[38;5;28;01mdef\u001b[39;00m \u001b[38;5;21mreset\u001b[39m(\u001b[38;5;28mself\u001b[39m) \u001b[38;5;241m-\u001b[39m\u001b[38;5;241m>\u001b[39m ts\u001b[38;5;241m.\u001b[39mTimeStep:\n\u001b[1;32m    186\u001b[0m \u001b[38;5;250m  \u001b[39m\u001b[38;5;124;03m\"\"\"Starts a new sequence and returns the first `TimeStep` of this sequence.\u001b[39;00m\n\u001b[1;32m    187\u001b[0m \n\u001b[1;32m    188\u001b[0m \u001b[38;5;124;03m  Note: Subclasses cannot override this directly. Subclasses implement\u001b[39;00m\n\u001b[0;32m   (...)\u001b[0m\n\u001b[1;32m    198\u001b[0m \u001b[38;5;124;03m        corresponding to `observation_spec()`.\u001b[39;00m\n\u001b[1;32m    199\u001b[0m \u001b[38;5;124;03m  \"\"\"\u001b[39;00m\n\u001b[0;32m--> 200\u001b[0m   \u001b[38;5;28mself\u001b[39m\u001b[38;5;241m.\u001b[39m_current_time_step \u001b[38;5;241m=\u001b[39m \u001b[38;5;28;43mself\u001b[39;49m\u001b[38;5;241;43m.\u001b[39;49m\u001b[43m_reset\u001b[49m\u001b[43m(\u001b[49m\u001b[43m)\u001b[49m\n\u001b[1;32m    201\u001b[0m   \u001b[38;5;28;01mreturn\u001b[39;00m \u001b[38;5;28mself\u001b[39m\u001b[38;5;241m.\u001b[39m_current_time_step\n",
      "File \u001b[0;32m~/Library/Caches/pypoetry/virtualenvs/icaml-planning-fFRb6YwO-py3.11/lib/python3.11/site-packages/tf_agents/environments/gym_wrapper.py:211\u001b[0m, in \u001b[0;36mGymWrapper._reset\u001b[0;34m(self)\u001b[0m\n\u001b[1;32m    208\u001b[0m \u001b[38;5;28;01mdef\u001b[39;00m \u001b[38;5;21m_reset\u001b[39m(\u001b[38;5;28mself\u001b[39m):\n\u001b[1;32m    209\u001b[0m   \u001b[38;5;66;03m# TODO(oars): Upcoming update on gym adds **kwargs on reset. Update this to\u001b[39;00m\n\u001b[1;32m    210\u001b[0m   \u001b[38;5;66;03m# support that.\u001b[39;00m\n\u001b[0;32m--> 211\u001b[0m   observation \u001b[38;5;241m=\u001b[39m \u001b[38;5;28;43mself\u001b[39;49m\u001b[38;5;241;43m.\u001b[39;49m\u001b[43m_gym_env\u001b[49m\u001b[38;5;241;43m.\u001b[39;49m\u001b[43mreset\u001b[49m\u001b[43m(\u001b[49m\u001b[43m)\u001b[49m\n\u001b[1;32m    212\u001b[0m   \u001b[38;5;28mself\u001b[39m\u001b[38;5;241m.\u001b[39m_info \u001b[38;5;241m=\u001b[39m \u001b[38;5;28;01mNone\u001b[39;00m\n\u001b[1;32m    213\u001b[0m   \u001b[38;5;28mself\u001b[39m\u001b[38;5;241m.\u001b[39m_done \u001b[38;5;241m=\u001b[39m \u001b[38;5;28;01mFalse\u001b[39;00m\n",
      "File \u001b[0;32m~/Library/Caches/pypoetry/virtualenvs/icaml-planning-fFRb6YwO-py3.11/lib/python3.11/site-packages/pybullet_envs/bullet/kukaGymEnv.py:94\u001b[0m, in \u001b[0;36mKukaGymEnv.reset\u001b[0;34m(self)\u001b[0m\n\u001b[1;32m     90\u001b[0m \u001b[38;5;28mself\u001b[39m\u001b[38;5;241m.\u001b[39mblockUid \u001b[38;5;241m=\u001b[39m p\u001b[38;5;241m.\u001b[39mloadURDF(os\u001b[38;5;241m.\u001b[39mpath\u001b[38;5;241m.\u001b[39mjoin(\u001b[38;5;28mself\u001b[39m\u001b[38;5;241m.\u001b[39m_urdfRoot, \u001b[38;5;124m\"\u001b[39m\u001b[38;5;124mblock.urdf\u001b[39m\u001b[38;5;124m\"\u001b[39m), xpos, ypos, \u001b[38;5;241m-\u001b[39m\u001b[38;5;241m0.15\u001b[39m,\n\u001b[1;32m     91\u001b[0m                            orn[\u001b[38;5;241m0\u001b[39m], orn[\u001b[38;5;241m1\u001b[39m], orn[\u001b[38;5;241m2\u001b[39m], orn[\u001b[38;5;241m3\u001b[39m])\n\u001b[1;32m     93\u001b[0m p\u001b[38;5;241m.\u001b[39msetGravity(\u001b[38;5;241m0\u001b[39m, \u001b[38;5;241m0\u001b[39m, \u001b[38;5;241m-\u001b[39m\u001b[38;5;241m10\u001b[39m)\n\u001b[0;32m---> 94\u001b[0m \u001b[38;5;28mself\u001b[39m\u001b[38;5;241m.\u001b[39m_kuka \u001b[38;5;241m=\u001b[39m \u001b[43mkuka\u001b[49m\u001b[38;5;241;43m.\u001b[39;49m\u001b[43mKuka\u001b[49m\u001b[43m(\u001b[49m\u001b[43murdfRootPath\u001b[49m\u001b[38;5;241;43m=\u001b[39;49m\u001b[38;5;28;43mself\u001b[39;49m\u001b[38;5;241;43m.\u001b[39;49m\u001b[43m_urdfRoot\u001b[49m\u001b[43m,\u001b[49m\u001b[43m \u001b[49m\u001b[43mtimeStep\u001b[49m\u001b[38;5;241;43m=\u001b[39;49m\u001b[38;5;28;43mself\u001b[39;49m\u001b[38;5;241;43m.\u001b[39;49m\u001b[43m_timeStep\u001b[49m\u001b[43m)\u001b[49m\n\u001b[1;32m     95\u001b[0m \u001b[38;5;28mself\u001b[39m\u001b[38;5;241m.\u001b[39m_envStepCounter \u001b[38;5;241m=\u001b[39m \u001b[38;5;241m0\u001b[39m\n\u001b[1;32m     96\u001b[0m p\u001b[38;5;241m.\u001b[39mstepSimulation()\n",
      "File \u001b[0;32m~/Library/Caches/pypoetry/virtualenvs/icaml-planning-fFRb6YwO-py3.11/lib/python3.11/site-packages/pybullet_envs/bullet/kuka.py:42\u001b[0m, in \u001b[0;36mKuka.__init__\u001b[0;34m(self, urdfRootPath, timeStep)\u001b[0m\n\u001b[1;32m     37\u001b[0m \u001b[38;5;66;03m#joint damping coefficents\u001b[39;00m\n\u001b[1;32m     38\u001b[0m \u001b[38;5;28mself\u001b[39m\u001b[38;5;241m.\u001b[39mjd \u001b[38;5;241m=\u001b[39m [\n\u001b[1;32m     39\u001b[0m     \u001b[38;5;241m0.00001\u001b[39m, \u001b[38;5;241m0.00001\u001b[39m, \u001b[38;5;241m0.00001\u001b[39m, \u001b[38;5;241m0.00001\u001b[39m, \u001b[38;5;241m0.00001\u001b[39m, \u001b[38;5;241m0.00001\u001b[39m, \u001b[38;5;241m0.00001\u001b[39m, \u001b[38;5;241m0.00001\u001b[39m, \u001b[38;5;241m0.00001\u001b[39m, \u001b[38;5;241m0.00001\u001b[39m,\n\u001b[1;32m     40\u001b[0m     \u001b[38;5;241m0.00001\u001b[39m, \u001b[38;5;241m0.00001\u001b[39m, \u001b[38;5;241m0.00001\u001b[39m, \u001b[38;5;241m0.00001\u001b[39m\n\u001b[1;32m     41\u001b[0m ]\n\u001b[0;32m---> 42\u001b[0m \u001b[38;5;28;43mself\u001b[39;49m\u001b[38;5;241;43m.\u001b[39;49m\u001b[43mreset\u001b[49m\u001b[43m(\u001b[49m\u001b[43m)\u001b[49m\n",
      "File \u001b[0;32m~/Library/Caches/pypoetry/virtualenvs/icaml-planning-fFRb6YwO-py3.11/lib/python3.11/site-packages/pybullet_envs/bullet/kuka.py:45\u001b[0m, in \u001b[0;36mKuka.reset\u001b[0;34m(self)\u001b[0m\n\u001b[1;32m     44\u001b[0m \u001b[38;5;28;01mdef\u001b[39;00m \u001b[38;5;21mreset\u001b[39m(\u001b[38;5;28mself\u001b[39m):\n\u001b[0;32m---> 45\u001b[0m   objects \u001b[38;5;241m=\u001b[39m \u001b[43mp\u001b[49m\u001b[38;5;241;43m.\u001b[39;49m\u001b[43mloadSDF\u001b[49m\u001b[43m(\u001b[49m\u001b[43mos\u001b[49m\u001b[38;5;241;43m.\u001b[39;49m\u001b[43mpath\u001b[49m\u001b[38;5;241;43m.\u001b[39;49m\u001b[43mjoin\u001b[49m\u001b[43m(\u001b[49m\u001b[38;5;28;43mself\u001b[39;49m\u001b[38;5;241;43m.\u001b[39;49m\u001b[43murdfRootPath\u001b[49m\u001b[43m,\u001b[49m\u001b[43m \u001b[49m\u001b[38;5;124;43m\"\u001b[39;49m\u001b[38;5;124;43mkuka_iiwa/kuka_with_gripper2.sdf\u001b[39;49m\u001b[38;5;124;43m\"\u001b[39;49m\u001b[43m)\u001b[49m\u001b[43m)\u001b[49m\n\u001b[1;32m     46\u001b[0m   \u001b[38;5;28mself\u001b[39m\u001b[38;5;241m.\u001b[39mkukaUid \u001b[38;5;241m=\u001b[39m objects[\u001b[38;5;241m0\u001b[39m]\n\u001b[1;32m     47\u001b[0m   \u001b[38;5;66;03m#for i in range (p.getNumJoints(self.kukaUid)):\u001b[39;00m\n\u001b[1;32m     48\u001b[0m   \u001b[38;5;66;03m#  print(p.getJointInfo(self.kukaUid,i))\u001b[39;00m\n",
      "\u001b[0;31merror\u001b[0m: Cannot load SDF file."
     ]
    }
   ],
   "source": [
    "# Function to train the agent\n",
    "def train_agent(agent, episodes, save_dir=\"../results\"):\n",
    "    for episode in range(episodes):\n",
    "        observation = agent.environment.reset()\n",
    "        total_reward = 0\n",
    "        done = False\n",
    "        \n",
    "        while not done:\n",
    "            action = agent.act(observation)  # TODOD Implement  act in agent.py\n",
    "            observation, reward, done, info = agent.environment.step(action)\n",
    "            agent.remember(observation, action, reward, done)  # TODO Implement  act in agent.py\n",
    "            agent.learn()  # TODO Implement  act in agent.py\n",
    "            total_reward += reward\n",
    "        \n",
    "        print(f'Episode: {episode+1}, Total Reward: {total_reward}')\n",
    "        \n",
    "        # Save model every episode / certain intervals\n",
    "        if episode % 100 == 0 or episode == episodes - 1:  # save every 100 episodes including last\n",
    "            save_path = os.path.join(save_dir, f'model_weights_ep{episode}.h5')\n",
    "            agent.save(save_path)  # TODO Implement  act in agent.py\n",
    "\n",
    "#  pybullet env\n",
    "environment = KukaGymEnv(renders=True, isDiscrete=True, maxSteps=10000000)\n",
    "motors_ids = [\n",
    "    environment._p.addUserDebugParameter(\"posX\", -0.01, 0.01, 0),\n",
    "    environment._p.addUserDebugParameter(\"posY\", -0.01, 0.01, 0),\n",
    "    environment._p.addUserDebugParameter(\"posZ\", -0.01, 0.01, 0),\n",
    "    environment._p.addUserDebugParameter(\"yaw\", -0.01, 0.01, 0),\n",
    "    environment._p.addUserDebugParameter(\"fingerAngle\", 0, 0.3, 0.3)\n",
    "]\n",
    "\n",
    "# Initialize the Agent\n",
    "agent = Agent(\"kuka\", environment, motors_ids)\n",
    "\n",
    "# save model weights in dir \n",
    "results_dir = \"../results\"\n",
    "if not os.path.exists(results_dir):\n",
    "    os.mkdir(results_dir)\n",
    "\n",
    "# training agent on ep\n",
    "number_of_episodes = 1000  # 1000 ep\n",
    "train_agent(agent, number_of_episodes, save_dir=results_dir)\n"
   ]
  },
  {
   "cell_type": "code",
   "execution_count": null,
   "id": "e238a2c6",
   "metadata": {},
   "outputs": [],
   "source": []
  }
 ],
 "metadata": {
  "kernelspec": {
   "display_name": "my-poetry-kernel",
   "language": "python",
   "name": "my-poetry-kernel"
  },
  "language_info": {
   "codemirror_mode": {
    "name": "ipython",
    "version": 3
   },
   "file_extension": ".py",
   "mimetype": "text/x-python",
   "name": "python",
   "nbconvert_exporter": "python",
   "pygments_lexer": "ipython3",
   "version": "3.11.5"
  }
 },
 "nbformat": 4,
 "nbformat_minor": 5
}
