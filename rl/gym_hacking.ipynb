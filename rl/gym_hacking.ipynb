{
 "cells": [
  {
   "cell_type": "code",
   "execution_count": 1,
   "id": "07e7abf1-fa19-44bc-afc0-55bad4e3ad34",
   "metadata": {},
   "outputs": [],
   "source": [
    "import gymnasium as gym\n",
    "import panda_gym\n",
    "from sb3_contrib import TQC\n",
    "from huggingface_sb3 import load_from_hub\n",
    "from stable_baselines3.common.vec_env import VecNormalize, DummyVecEnv\n",
    "import time\n",
    "import numpy as np\n",
    "from panda_gym.utils import distance"
   ]
  },
  {
   "cell_type": "code",
   "execution_count": 2,
   "id": "20789aed-90d2-4ce8-b2f4-4393541b4232",
   "metadata": {},
   "outputs": [
    {
     "name": "stderr",
     "output_type": "stream",
     "text": [
      "pybullet build time: Nov 28 2023 23:48:36\n",
      "/home/frosty/Programs/Python/cse598/.venv/lib/python3.11/site-packages/gymnasium/core.py:311: UserWarning: \u001b[33mWARN: env.sim to get variables from other wrappers is deprecated and will be removed in v1.0, to get this variable you can do `env.unwrapped.sim` for environment variables or `env.get_wrapper_attr('sim')` that will search the reminding wrappers.\u001b[0m\n",
      "  logger.warn(\n",
      "/home/frosty/Programs/Python/cse598/.venv/lib/python3.11/site-packages/gymnasium/core.py:311: UserWarning: \u001b[33mWARN: env.robot to get variables from other wrappers is deprecated and will be removed in v1.0, to get this variable you can do `env.unwrapped.robot` for environment variables or `env.get_wrapper_attr('robot')` that will search the reminding wrappers.\u001b[0m\n",
      "  logger.warn(\n",
      "/home/frosty/Programs/Python/cse598/.venv/lib/python3.11/site-packages/gymnasium/core.py:311: UserWarning: \u001b[33mWARN: env.task to get variables from other wrappers is deprecated and will be removed in v1.0, to get this variable you can do `env.unwrapped.task` for environment variables or `env.get_wrapper_attr('task')` that will search the reminding wrappers.\u001b[0m\n",
      "  logger.warn(\n"
     ]
    }
   ],
   "source": [
    "chk = load_from_hub(repo_id=\"BanUrsus/tqc-PandaPickAndPlace-v3\", filename=\"tqc-PandaPickAndPlace-v3.zip\")\n",
    "stats = load_from_hub(repo_id=\"BanUrsus/tqc-PandaPickAndPlace-v3\", filename=\"vec_normalize.pkl\")\n",
    "   \n",
    "env = gym.make('PandaPickAndPlace-v3', render_mode=\"human\", autoreset=False)\n",
    "\n",
    "sim = env.sim\n",
    "robot = env.robot\n",
    "task = env.task\n",
    "\n",
    "env = DummyVecEnv([lambda: env])\n",
    "env = VecNormalize.load(stats, env)\n",
    "env.training = False\n",
    "env.norm_reward = False"
   ]
  },
  {
   "cell_type": "code",
   "execution_count": 4,
   "id": "4b6f561c-04ab-452f-a610-7273f4dd2156",
   "metadata": {},
   "outputs": [
    {
     "name": "stderr",
     "output_type": "stream",
     "text": [
      "/home/frosty/Programs/Python/cse598/.venv/lib/python3.11/site-packages/stable_baselines3/common/save_util.py:167: UserWarning: Could not deserialize object lr_schedule. Consider using `custom_objects` argument to replace this object.\n",
      "Exception: code() argument 13 must be str, not int\n",
      "  warnings.warn(\n"
     ]
    },
    {
     "name": "stdout",
     "output_type": "stream",
     "text": [
      "True\n",
      "False\n",
      "False\n",
      "False\n",
      "False\n",
      "False\n",
      "True\n",
      "True\n",
      "True\n",
      "False\n",
      "False\n",
      "False\n",
      "False\n",
      "False\n",
      "True\n",
      "True\n",
      "True\n",
      "True\n",
      "True\n",
      "True\n",
      "True\n",
      "True\n",
      "True\n",
      "True\n",
      "True\n",
      "True\n",
      "True\n",
      "True\n",
      "False\n",
      "False\n",
      "False\n",
      "False\n",
      "False\n",
      "False\n",
      "False\n",
      "False\n",
      "True\n",
      "True\n",
      "False\n",
      "False\n",
      "False\n",
      "False\n",
      "False\n",
      "True\n",
      "False\n",
      "False\n",
      "False\n",
      "False\n",
      "True\n",
      "True\n",
      "True\n",
      "True\n",
      "False\n",
      "False\n",
      "True\n",
      "False\n",
      "False\n",
      "False\n",
      "False\n",
      "False\n",
      "False\n",
      "False\n",
      "False\n",
      "True\n",
      "False\n",
      "False\n",
      "False\n",
      "False\n"
     ]
    },
    {
     "ename": "KeyboardInterrupt",
     "evalue": "",
     "output_type": "error",
     "traceback": [
      "\u001b[0;31m---------------------------------------------------------------------------\u001b[0m",
      "\u001b[0;31mKeyboardInterrupt\u001b[0m                         Traceback (most recent call last)",
      "Cell \u001b[0;32mIn[4], line 36\u001b[0m\n\u001b[1;32m     34\u001b[0m \u001b[38;5;28mprint\u001b[39m(state[\u001b[38;5;124m\"\u001b[39m\u001b[38;5;124mis_closed\u001b[39m\u001b[38;5;124m\"\u001b[39m])\n\u001b[1;32m     35\u001b[0m done \u001b[38;5;241m=\u001b[39m dones[\u001b[38;5;241m0\u001b[39m]\n\u001b[0;32m---> 36\u001b[0m time\u001b[38;5;241m.\u001b[39msleep(\u001b[38;5;241m1\u001b[39m)\n",
      "\u001b[0;31mKeyboardInterrupt\u001b[0m: "
     ]
    }
   ],
   "source": [
    "model = TQC.load(chk,env) \n",
    "obs = env.reset()\n",
    "\n",
    "q1 = np.array([1.1 / 4 - 0.3, 0.7 / 4 , 0.4])\n",
    "q2 = np.array([1.1 / 4 - 0.3, 3 * (0.7 / 4), 0.4])\n",
    "q3 = np.array([(1.1 / 4) * 3 - 0.3, 0.7 / 4, 0.4])\n",
    "q4 = np.array([(1.1 / 4) * 3 - 0.3, 3 * (0.7 / 4), 0.4])\n",
    "\n",
    "while True:\n",
    "    action, _states = model.predict(obs, deterministic=True)\n",
    "    obs, reward, dones, info = env.step(action)\n",
    "\n",
    "\n",
    "    # gather data\n",
    "    ee = robot.get_ee_position()\n",
    "    fw = robot.get_fingers_width()\n",
    "    block = task.get_achieved_goal()\n",
    "    goal = np.array(sim.get_base_position(\"target\"))\n",
    "    \n",
    "    state = {\n",
    "        \"effector_pos\": ee,\n",
    "        \"finger_width\": fw,\n",
    "        \"d_q1\": distance(ee,q1),\n",
    "        \"d_q2\": distance(ee,q2),\n",
    "        \"d_q3\": distance(ee,q3),\n",
    "        \"d_q4\": distance(ee,q4),\n",
    "        \"distance_to_block\": distance(ee,block),\n",
    "        \"block_to_goal\": distance(block, goal),\n",
    "        \"is_grasping\": fw > 0.02 and fw < 0.04,\n",
    "        \"is_closed\": fw < 0.01\n",
    "    }\n",
    "\n",
    "    done = dones[0]\n",
    "    time.sleep(1)\n"
   ]
  },
  {
   "cell_type": "code",
   "execution_count": null,
   "id": "0cbedf37-c4e3-46b7-9315-7e58c0e16334",
   "metadata": {},
   "outputs": [],
   "source": [
    "# robot.get_ee_position() gets us the position of the robots \"fingers\"\n",
    "# robot.get_fingers_width() gets us the width between the robots \"fingers\"\n",
    "\n",
    "# the table has dimensions (1.1, 0.7, 0.4) w/ x_offset=-0.3\n",
    "# can partition the table into 4 quadrants\n",
    "# q1 = (1.1 / 4 - 0.3, 0.7 / 4 , 0.4)\n",
    "# q2 = (1.1 / 4 - 0.3, 3 * (0.7 / 4), 0.4)\n",
    "# q3 = ((1.1 / 4) * 3 - 0.3, 0.7 / 4, 0.4)\n",
    "# q4 = ((1.1 / 4) * 3 - 0.3, 3 * (0.7 / 4), 0.4)\n",
    "\n",
    "# distance_to_q{} = d(robot.get_ee_position(), q{})\n",
    "\n",
    "# grasping might be distance from effectors to block & a check to see if they arent completely open or closed\n",
    "# distance_to_block = d(robot.get_ee_position(), desired_goal)\n"
   ]
  },
  {
   "cell_type": "code",
   "execution_count": null,
   "id": "84969a70-4099-410f-99f4-65fe0be2648b",
   "metadata": {},
   "outputs": [],
   "source": [
    "# task.get_achieved_goal() where the block is now\n",
    "# desired_goal = np.array(sim.get_base_position(\"target\"))\n",
    "# d = distance(achieved_goal, desired_goal)"
   ]
  },
  {
   "cell_type": "code",
   "execution_count": null,
   "id": "069ee1f0-376b-4cc8-93c8-b511d33c7a7e",
   "metadata": {},
   "outputs": [],
   "source": [
    "# looks like overall we keep the env in the wrapped form and just save the variables\n",
    "# so we can mess with them elsewhere"
   ]
  }
 ],
 "metadata": {
  "kernelspec": {
   "display_name": "Python 3 (ipykernel)",
   "language": "python",
   "name": "python3"
  },
  "language_info": {
   "codemirror_mode": {
    "name": "ipython",
    "version": 3
   },
   "file_extension": ".py",
   "mimetype": "text/x-python",
   "name": "python",
   "nbconvert_exporter": "python",
   "pygments_lexer": "ipython3",
   "version": "3.11.8"
  }
 },
 "nbformat": 4,
 "nbformat_minor": 5
}
