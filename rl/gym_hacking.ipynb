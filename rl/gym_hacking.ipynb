{
 "cells": [
  {
   "cell_type": "code",
   "execution_count": 2,
   "id": "07e7abf1-fa19-44bc-afc0-55bad4e3ad34",
   "metadata": {},
   "outputs": [],
   "source": [
    "import gymnasium as gym\n",
    "import panda_gym\n",
    "from sb3_contrib import TQC\n",
    "from huggingface_sb3 import load_from_hub\n",
    "from stable_baselines3.common.vec_env import VecNormalize, DummyVecEnv\n",
    "import time\n",
    "import numpy as np\n",
    "from panda_gym.utils import distance\n",
    "import random"
   ]
  },
  {
   "cell_type": "code",
   "execution_count": 3,
   "id": "20789aed-90d2-4ce8-b2f4-4393541b4232",
   "metadata": {},
   "outputs": [
    {
     "name": "stderr",
     "output_type": "stream",
     "text": [
      "pybullet build time: Nov 28 2023 23:48:36\n",
      "/home/frosty/Programs/Python/cse598/.venv/lib/python3.11/site-packages/gymnasium/core.py:311: UserWarning: \u001b[33mWARN: env.sim to get variables from other wrappers is deprecated and will be removed in v1.0, to get this variable you can do `env.unwrapped.sim` for environment variables or `env.get_wrapper_attr('sim')` that will search the reminding wrappers.\u001b[0m\n",
      "  logger.warn(\n",
      "/home/frosty/Programs/Python/cse598/.venv/lib/python3.11/site-packages/gymnasium/core.py:311: UserWarning: \u001b[33mWARN: env.robot to get variables from other wrappers is deprecated and will be removed in v1.0, to get this variable you can do `env.unwrapped.robot` for environment variables or `env.get_wrapper_attr('robot')` that will search the reminding wrappers.\u001b[0m\n",
      "  logger.warn(\n",
      "/home/frosty/Programs/Python/cse598/.venv/lib/python3.11/site-packages/gymnasium/core.py:311: UserWarning: \u001b[33mWARN: env.task to get variables from other wrappers is deprecated and will be removed in v1.0, to get this variable you can do `env.unwrapped.task` for environment variables or `env.get_wrapper_attr('task')` that will search the reminding wrappers.\u001b[0m\n",
      "  logger.warn(\n"
     ]
    }
   ],
   "source": [
    "chk = load_from_hub(repo_id=\"BanUrsus/tqc-PandaPickAndPlace-v3\", filename=\"tqc-PandaPickAndPlace-v3.zip\")\n",
    "stats = load_from_hub(repo_id=\"BanUrsus/tqc-PandaPickAndPlace-v3\", filename=\"vec_normalize.pkl\")\n",
    "   \n",
    "env = gym.make('PandaPickAndPlace-v3', render_mode=\"human\", autoreset=False)\n",
    "\n",
    "sim = env.sim\n",
    "robot = env.robot\n",
    "task = env.task\n",
    "\n",
    "env = DummyVecEnv([lambda: env])\n",
    "env = VecNormalize.load(stats, env)\n",
    "env.training = False\n",
    "env.norm_reward = False"
   ]
  },
  {
   "cell_type": "code",
   "execution_count": 4,
   "id": "9e251dc4-5fcc-4b9b-bfea-5ebaa5ebefbf",
   "metadata": {},
   "outputs": [
    {
     "name": "stderr",
     "output_type": "stream",
     "text": [
      "/home/frosty/Programs/Python/cse598/.venv/lib/python3.11/site-packages/stable_baselines3/common/save_util.py:167: UserWarning: Could not deserialize object lr_schedule. Consider using `custom_objects` argument to replace this object.\n",
      "Exception: code() argument 13 must be str, not int\n",
      "  warnings.warn(\n"
     ]
    }
   ],
   "source": [
    "model = TQC.load(chk,env) \n",
    "env = model.env\n",
    "obs = env.reset()\n",
    "\n",
    "q1 = np.array([0.15, 0.15 , 0.0])\n",
    "q2 = np.array([0.15, -0.15, 0.0])\n",
    "q3 = np.array([-0.15, 0.15, 0.0])\n",
    "q4 = np.array([-0.15, -0.15, 0.0])"
   ]
  },
  {
   "cell_type": "code",
   "execution_count": 5,
   "id": "733df93f-54ba-46a3-83df-bc1a5b6da688",
   "metadata": {},
   "outputs": [],
   "source": [
    "sim.create_box(\n",
    "    body_name=\"q1\",\n",
    "    half_extents=np.ones(3) * 0.04 / 2,\n",
    "    mass=1.0,\n",
    "    position=q1,\n",
    "    rgba_color=np.array([1.0, 0.0, 0.0, 1.0]),\n",
    ")"
   ]
  },
  {
   "cell_type": "code",
   "execution_count": 6,
   "id": "af1b67b4-58d5-491e-afce-2497ed5c4244",
   "metadata": {},
   "outputs": [],
   "source": [
    "sim.create_box(\n",
    "    body_name=\"q2\",\n",
    "    half_extents=np.ones(3) * 0.04 / 2,\n",
    "    mass=1.0,\n",
    "    position=q2,\n",
    "    rgba_color=np.array([0.5, 0.5, 0.0, 1.0]),\n",
    ")"
   ]
  },
  {
   "cell_type": "code",
   "execution_count": 7,
   "id": "7eb9af67-73b2-4f72-9f30-3b988a7f1e6a",
   "metadata": {},
   "outputs": [],
   "source": [
    "sim.create_box(\n",
    "    body_name=\"q3\",\n",
    "    half_extents=np.ones(3) * 0.04 / 2,\n",
    "    mass=1.0,\n",
    "    position=q3,\n",
    "    rgba_color=np.array([0.0, 0.0, 1.0, 1.0]),\n",
    ")"
   ]
  },
  {
   "cell_type": "code",
   "execution_count": 8,
   "id": "9f6e9979-25c7-4ca8-87ea-3a9ec11a4aaa",
   "metadata": {},
   "outputs": [],
   "source": [
    "sim.create_box(\n",
    "    body_name=\"q4\",\n",
    "    half_extents=np.ones(3) * 0.04 / 2,\n",
    "    mass=1.0,\n",
    "    position=q4,\n",
    "    rgba_color=np.array([0.0, 0.5, 0.5, 1.0]),\n",
    ")"
   ]
  },
  {
   "cell_type": "code",
   "execution_count": 6,
   "id": "dbcea6b7-e706-4b8f-9b54-79ed9abd243b",
   "metadata": {},
   "outputs": [],
   "source": [
    "def is_gripper_open(finger_width):\n",
    "    return finger_width > 0.02\n",
    "\n",
    "def is_gripper_correctly_oriented(ee_position, block_position, z_threshold=0.025):\n",
    "    return abs(ee_position[2] - block_position[2]) <= z_threshold \n",
    "\n",
    "def is_block_grasped(finger_width, proximity):\n",
    "    return finger_width <= 0.08 and finger_width >= 0.02 and proximity < 0.05  \n",
    "\n",
    "def estimate_finger_positions(ee, fw):\n",
    "    hw = fw / 2\n",
    "    lf = np.array([ee[0] - hw, ee[1], ee[2]])\n",
    "    rf = np.array([ee[0] + hw, ee[1], ee[2]])\n",
    "    return lf, rf\n",
    "\n",
    "def is_block_between_fingers(bp, lf, rf):\n",
    "    return (min(lf[0], rf[0]) <= bp[0] <= max(lf[0], rf[0])) and (min(lf[1], rf[1]) <= bp[1] <= max(lf[1], rf[1]))\n",
    "    \n",
    "# TODO\n",
    "# Change Defn of is block is being gripped \n",
    "    \n",
    "\n",
    "def is_sliding(block_position, goal_position, z_threshold=0.02):\n",
    "    # Check if the block and goal are on the same z-plane within a threshold\n",
    "    \n",
    "    return abs(block_position[2] - goal_position[2]) <= z_threshold"
   ]
  },
  {
   "cell_type": "code",
   "execution_count": 22,
   "id": "4b6f561c-04ab-452f-a610-7273f4dd2156",
   "metadata": {},
   "outputs": [
    {
     "name": "stdout",
     "output_type": "stream",
     "text": [
      "False\n",
      "False\n",
      "False\n",
      "False\n",
      "True\n",
      "True\n",
      "True\n",
      "True\n",
      "False\n",
      "False\n",
      "False\n",
      "False\n",
      "False\n",
      "True\n",
      "True\n",
      "True\n",
      "False\n",
      "False\n",
      "False\n",
      "False\n",
      "False\n",
      "True\n",
      "True\n",
      "True\n",
      "True\n",
      "False\n",
      "False\n",
      "False\n",
      "False\n",
      "False\n"
     ]
    },
    {
     "ename": "KeyboardInterrupt",
     "evalue": "",
     "output_type": "error",
     "traceback": [
      "\u001b[0;31m---------------------------------------------------------------------------\u001b[0m",
      "\u001b[0;31mKeyboardInterrupt\u001b[0m                         Traceback (most recent call last)",
      "Cell \u001b[0;32mIn[22], line 83\u001b[0m\n\u001b[1;32m     63\u001b[0m \u001b[38;5;66;03m#print(\"is grasped?\", is_grasped(fw))#block_grasped and np.sum(object_velocity) > 0)\u001b[39;00m\n\u001b[1;32m     64\u001b[0m \u001b[38;5;66;03m# abstract state\u001b[39;00m\n\u001b[1;32m     65\u001b[0m state \u001b[38;5;241m=\u001b[39m {\n\u001b[1;32m     66\u001b[0m     \u001b[38;5;124m\"\u001b[39m\u001b[38;5;124meffector_pos\u001b[39m\u001b[38;5;124m\"\u001b[39m: ee,\n\u001b[1;32m     67\u001b[0m     \u001b[38;5;124m\"\u001b[39m\u001b[38;5;124mfinger_width\u001b[39m\u001b[38;5;124m\"\u001b[39m: fw,\n\u001b[0;32m   (...)\u001b[0m\n\u001b[1;32m     80\u001b[0m     \u001b[38;5;124m\"\u001b[39m\u001b[38;5;124mfinished\u001b[39m\u001b[38;5;124m\"\u001b[39m: dones[\u001b[38;5;241m0\u001b[39m]\n\u001b[1;32m     81\u001b[0m }\n\u001b[0;32m---> 83\u001b[0m \u001b[43mtime\u001b[49m\u001b[38;5;241;43m.\u001b[39;49m\u001b[43msleep\u001b[49m\u001b[43m(\u001b[49m\u001b[38;5;241;43m1\u001b[39;49m\u001b[43m)\u001b[49m\n\u001b[1;32m     85\u001b[0m \u001b[38;5;28;01mif\u001b[39;00m dones[\u001b[38;5;241m0\u001b[39m]:\n\u001b[1;32m     86\u001b[0m     solved_states\u001b[38;5;241m.\u001b[39mappend(state)\n",
      "\u001b[0;31mKeyboardInterrupt\u001b[0m: "
     ]
    }
   ],
   "source": [
    "random_states = []\n",
    "solved_states = []\n",
    "\n",
    "def is_grasped(fw):\n",
    "    robot_idx = sim._bodies_idx[\"panda\"]\n",
    "    block_idx = sim._bodies_idx[\"object\"]\n",
    "    \n",
    "    gripperState = sim.physics_client.getLinkState(robot_idx, robot.ee_link)\n",
    "    gripperPos = gripperState[0]\n",
    "    gripperOrn = gripperState[1]\n",
    "    blockPos, blockOrn = sim.physics_client.getBasePositionAndOrientation(block_idx)\n",
    "\n",
    "    invGripperPos, invGripperOrn = sim.physics_client.invertTransform(gripperPos, gripperOrn)\n",
    "    gripperMat = sim.physics_client.getMatrixFromQuaternion(gripperOrn)\n",
    "    dir0 = [gripperMat[0], gripperMat[3], gripperMat[6]]\n",
    "    dir1 = [gripperMat[1], gripperMat[4], gripperMat[7]]\n",
    "    dir2 = [gripperMat[2], gripperMat[5], gripperMat[8]]\n",
    "\n",
    "    gripperEul = sim.physics_client.getEulerFromQuaternion(gripperOrn)\n",
    "    #print(\"gripperEul\")\n",
    "    #print(gripperEul)\n",
    "    blockPosInGripper, blockOrnInGripper = sim.physics_client.multiplyTransforms(invGripperPos, invGripperOrn,\n",
    "                                                                blockPos, blockOrn)\n",
    "    projectedBlockPos2D = [blockPosInGripper[0], blockPosInGripper[1]]\n",
    "    blockEulerInGripper = sim.physics_client.getEulerFromQuaternion(blockOrnInGripper)\n",
    "    #print(\"projectedBlockPos2D\")\n",
    "    #print(projectedBlockPos2D)\n",
    "    #print(\"blockEulerInGripper\")\n",
    "    #print(blockEulerInGripper)\n",
    "\n",
    "    return abs(blockPosInGripper[0]) < 0.02 and abs(blockPosInGripper[1]) < 0.02 and abs(blockPosInGripper[2]) < 0.05  and fw < 0.08 and fw > 0.02\n",
    "\n",
    "\n",
    "\n",
    "\n",
    "while len(random_states) < 10000 or len(solved_states) < 1000:\n",
    "    action, _states = model.predict(obs, deterministic=True)\n",
    "    # print(action)\n",
    "    obs, reward, dones, info = env.step(action)\n",
    "\n",
    "    # gather data\n",
    "    ee = robot.get_ee_position()\n",
    "    fw = robot.get_fingers_width()\n",
    "    block = task.get_achieved_goal()\n",
    "    goal = np.array(sim.get_base_position(\"target\"))\n",
    "\n",
    "    lf, rf = estimate_finger_positions(ee, fw)\n",
    "\n",
    "   #print(block, ee)\n",
    "    #print(\"block between: \", is_block_between_fingers(block, lf,rf))\n",
    "    # predicates\n",
    "    distance_to_block = distance(ee, block)\n",
    "    gripper_open = is_gripper_open(fw)\n",
    "    gripper_correctly_oriented = is_gripper_correctly_oriented(ee,block)\n",
    "    block_grasped = is_block_grasped(fw, distance_to_block)\n",
    "    sliding = is_sliding(block,goal)\n",
    "    \n",
    "    object_velocity = sim.get_base_velocity(\"object\")\n",
    "\n",
    "    robot_idx = sim._bodies_idx[\"panda\"]\n",
    "    block_idx = sim._bodies_idx[\"object\"]\n",
    "    print(len(sim.physics_client.getClosestPoints(block_idx, robot_idx, distance=0, linkIndexB=9)) > 0 and fw > 0.01)#robot.ee_link))\n",
    "    #print(\"is grasped?\", is_grasped(fw))#block_grasped and np.sum(object_velocity) > 0)\n",
    "    # abstract state\n",
    "    state = {\n",
    "        \"effector_pos\": ee,\n",
    "        \"finger_width\": fw,\n",
    "        \"gripper_open\": gripper_open,\n",
    "        \"gripper_orientation_correct\": gripper_correctly_oriented,\n",
    "        \"block_grasped\": block_grasped,\n",
    "        \"d_q1\": distance(ee, q1),\n",
    "        \"d_q2\": distance(ee, q2),\n",
    "        \"d_q3\": distance(ee, q3),\n",
    "        \"d_q4\": distance(ee, q4),\n",
    "        \"distance_to_block\": distance_to_block,\n",
    "        \"block_to_goal\": distance(block, goal),\n",
    "        \"is_grasping\": fw > 0.02 and fw < 0.04,\n",
    "        \"is_closed\": fw < 0.01,\n",
    "        \"sliding\": sliding,\n",
    "        \"finished\": dones[0]\n",
    "    }\n",
    "\n",
    "    time.sleep(1)\n",
    "\n",
    "    if dones[0]:\n",
    "        solved_states.append(state)\n",
    "        obs = env.reset()\n",
    "    else:\n",
    "        if random.randint(0, 10) == 0:\n",
    "            random_states.append(state)\n",
    "\n",
    "print(f\"finished: {len(random_states)} random states, {len(solved_states)} solved states\")"
   ]
  },
  {
   "cell_type": "code",
   "execution_count": null,
   "id": "0cbedf37-c4e3-46b7-9315-7e58c0e16334",
   "metadata": {},
   "outputs": [],
   "source": [
    "# robot.get_ee_position() gets us the position of the robots \"fingers\"\n",
    "# robot.get_fingers_width() gets us the width between the robots \"fingers\"\n",
    "\n",
    "# the table has dimensions (1.1, 0.7, 0.4) w/ x_offset=-0.3\n",
    "# can partition the table into 4 quadrants\n",
    "# q1 = (1.1 / 4 - 0.3, 0.7 / 4 , 0.4)\n",
    "# q2 = (1.1 / 4 - 0.3, 3 * (0.7 / 4), 0.4)\n",
    "# q3 = ((1.1 / 4) * 3 - 0.3, 0.7 / 4, 0.4)\n",
    "# q4 = ((1.1 / 4) * 3 - 0.3, 3 * (0.7 / 4), 0.4)\n",
    "\n",
    "# distance_to_q{} = d(robot.get_ee_position(), q{})\n",
    "\n",
    "# grasping might be distance from effectors to block & a check to see if they arent completely open or closed\n",
    "# distance_to_block = d(robot.get_ee_position(), desired_goal)\n"
   ]
  },
  {
   "cell_type": "code",
   "execution_count": null,
   "id": "84969a70-4099-410f-99f4-65fe0be2648b",
   "metadata": {},
   "outputs": [],
   "source": [
    "# task.get_achieved_goal() where the block is now\n",
    "# desired_goal = np.array(sim.get_base_position(\"target\"))\n",
    "# d = distance(achieved_goal, desired_goal)"
   ]
  },
  {
   "cell_type": "code",
   "execution_count": null,
   "id": "069ee1f0-376b-4cc8-93c8-b511d33c7a7e",
   "metadata": {},
   "outputs": [],
   "source": [
    "# looks like overall we keep the env in the wrapped form and just save the variables\n",
    "# so we can mess with them elsewhere"
   ]
  }
 ],
 "metadata": {
  "kernelspec": {
   "display_name": "Python 3 (ipykernel)",
   "language": "python",
   "name": "python3"
  },
  "language_info": {
   "codemirror_mode": {
    "name": "ipython",
    "version": 3
   },
   "file_extension": ".py",
   "mimetype": "text/x-python",
   "name": "python",
   "nbconvert_exporter": "python",
   "pygments_lexer": "ipython3",
   "version": "3.11.8"
  }
 },
 "nbformat": 4,
 "nbformat_minor": 5
}
